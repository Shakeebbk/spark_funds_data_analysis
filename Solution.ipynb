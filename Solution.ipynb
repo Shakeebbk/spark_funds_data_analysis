{
 "cells": [
  {
   "cell_type": "code",
   "execution_count": 1,
   "metadata": {},
   "outputs": [],
   "source": [
    "import numpy as np\n",
    "import pandas as pd\n",
    "\n",
    "import matplotlib.pyplot as plt"
   ]
  },
  {
   "cell_type": "code",
   "execution_count": 2,
   "metadata": {},
   "outputs": [],
   "source": [
    "# read companies file with entries separated by tab\n",
    "companies = pd.read_csv('companies.txt', encoding = \"ISO-8859-1\", sep='\\t')\n",
    "# read rounds2 csv\n",
    "rounds2 = pd.read_csv('rounds2.csv', encoding = \"ISO-8859-1\")"
   ]
  },
  {
   "cell_type": "code",
   "execution_count": 3,
   "metadata": {},
   "outputs": [
    {
     "name": "stdout",
     "output_type": "stream",
     "text": [
      "Number of unique companies in rounds2: 66370\n",
      "Number of unique companies in companies.txt: 66368\n"
     ]
    }
   ],
   "source": [
    "# get number of unique companies in rounds2 dataset\n",
    "rounds2['company_permalink'] = rounds2['company_permalink'].str.lower()\n",
    "print('Number of unique companies in rounds2:', rounds2['company_permalink'].nunique(dropna=True))\n",
    "\n",
    "# get number of unique companies in companies dataset\n",
    "companies['permalink'] = companies['permalink'].str.lower()\n",
    "print('Number of unique companies in companies.txt:', companies['permalink'].nunique(dropna=True))"
   ]
  },
  {
   "cell_type": "code",
   "execution_count": 4,
   "metadata": {},
   "outputs": [
    {
     "data": {
      "text/html": [
       "<div>\n",
       "<style scoped>\n",
       "    .dataframe tbody tr th:only-of-type {\n",
       "        vertical-align: middle;\n",
       "    }\n",
       "\n",
       "    .dataframe tbody tr th {\n",
       "        vertical-align: top;\n",
       "    }\n",
       "\n",
       "    .dataframe thead th {\n",
       "        text-align: right;\n",
       "    }\n",
       "</style>\n",
       "<table border=\"1\" class=\"dataframe\">\n",
       "  <thead>\n",
       "    <tr style=\"text-align: right;\">\n",
       "      <th></th>\n",
       "      <th>permalink</th>\n",
       "      <th>name</th>\n",
       "      <th>homepage_url</th>\n",
       "      <th>category_list</th>\n",
       "      <th>status</th>\n",
       "      <th>country_code</th>\n",
       "      <th>state_code</th>\n",
       "      <th>region</th>\n",
       "      <th>city</th>\n",
       "      <th>founded_at</th>\n",
       "    </tr>\n",
       "  </thead>\n",
       "  <tbody>\n",
       "    <tr>\n",
       "      <th>0</th>\n",
       "      <td>/organization/-fame</td>\n",
       "      <td>#fame</td>\n",
       "      <td>http://livfame.com</td>\n",
       "      <td>Media</td>\n",
       "      <td>operating</td>\n",
       "      <td>IND</td>\n",
       "      <td>16</td>\n",
       "      <td>Mumbai</td>\n",
       "      <td>Mumbai</td>\n",
       "      <td>NaN</td>\n",
       "    </tr>\n",
       "    <tr>\n",
       "      <th>1</th>\n",
       "      <td>/organization/-qounter</td>\n",
       "      <td>:Qounter</td>\n",
       "      <td>http://www.qounter.com</td>\n",
       "      <td>Application Platforms|Real Time|Social Network...</td>\n",
       "      <td>operating</td>\n",
       "      <td>USA</td>\n",
       "      <td>DE</td>\n",
       "      <td>DE - Other</td>\n",
       "      <td>Delaware City</td>\n",
       "      <td>04-09-2014</td>\n",
       "    </tr>\n",
       "    <tr>\n",
       "      <th>2</th>\n",
       "      <td>/organization/-the-one-of-them-inc-</td>\n",
       "      <td>(THE) ONE of THEM,Inc.</td>\n",
       "      <td>http://oneofthem.jp</td>\n",
       "      <td>Apps|Games|Mobile</td>\n",
       "      <td>operating</td>\n",
       "      <td>NaN</td>\n",
       "      <td>NaN</td>\n",
       "      <td>NaN</td>\n",
       "      <td>NaN</td>\n",
       "      <td>NaN</td>\n",
       "    </tr>\n",
       "    <tr>\n",
       "      <th>3</th>\n",
       "      <td>/organization/0-6-com</td>\n",
       "      <td>0-6.com</td>\n",
       "      <td>http://www.0-6.com</td>\n",
       "      <td>Curated Web</td>\n",
       "      <td>operating</td>\n",
       "      <td>CHN</td>\n",
       "      <td>22</td>\n",
       "      <td>Beijing</td>\n",
       "      <td>Beijing</td>\n",
       "      <td>01-01-2007</td>\n",
       "    </tr>\n",
       "    <tr>\n",
       "      <th>4</th>\n",
       "      <td>/organization/004-technologies</td>\n",
       "      <td>004 Technologies</td>\n",
       "      <td>http://004gmbh.de/en/004-interact</td>\n",
       "      <td>Software</td>\n",
       "      <td>operating</td>\n",
       "      <td>USA</td>\n",
       "      <td>IL</td>\n",
       "      <td>Springfield, Illinois</td>\n",
       "      <td>Champaign</td>\n",
       "      <td>01-01-2010</td>\n",
       "    </tr>\n",
       "  </tbody>\n",
       "</table>\n",
       "</div>"
      ],
      "text/plain": [
       "                             permalink                    name  \\\n",
       "0                  /organization/-fame                   #fame   \n",
       "1               /organization/-qounter                :Qounter   \n",
       "2  /organization/-the-one-of-them-inc-  (THE) ONE of THEM,Inc.   \n",
       "3                /organization/0-6-com                 0-6.com   \n",
       "4       /organization/004-technologies        004 Technologies   \n",
       "\n",
       "                        homepage_url  \\\n",
       "0                 http://livfame.com   \n",
       "1             http://www.qounter.com   \n",
       "2                http://oneofthem.jp   \n",
       "3                 http://www.0-6.com   \n",
       "4  http://004gmbh.de/en/004-interact   \n",
       "\n",
       "                                       category_list     status country_code  \\\n",
       "0                                              Media  operating          IND   \n",
       "1  Application Platforms|Real Time|Social Network...  operating          USA   \n",
       "2                                  Apps|Games|Mobile  operating          NaN   \n",
       "3                                        Curated Web  operating          CHN   \n",
       "4                                           Software  operating          USA   \n",
       "\n",
       "  state_code                 region           city  founded_at  \n",
       "0         16                 Mumbai         Mumbai         NaN  \n",
       "1         DE             DE - Other  Delaware City  04-09-2014  \n",
       "2        NaN                    NaN            NaN         NaN  \n",
       "3         22                Beijing        Beijing  01-01-2007  \n",
       "4         IL  Springfield, Illinois      Champaign  01-01-2010  "
      ]
     },
     "execution_count": 4,
     "metadata": {},
     "output_type": "execute_result"
    }
   ],
   "source": [
    "companies.head()"
   ]
  },
  {
   "cell_type": "code",
   "execution_count": 5,
   "metadata": {},
   "outputs": [
    {
     "data": {
      "text/html": [
       "<div>\n",
       "<style scoped>\n",
       "    .dataframe tbody tr th:only-of-type {\n",
       "        vertical-align: middle;\n",
       "    }\n",
       "\n",
       "    .dataframe tbody tr th {\n",
       "        vertical-align: top;\n",
       "    }\n",
       "\n",
       "    .dataframe thead th {\n",
       "        text-align: right;\n",
       "    }\n",
       "</style>\n",
       "<table border=\"1\" class=\"dataframe\">\n",
       "  <thead>\n",
       "    <tr style=\"text-align: right;\">\n",
       "      <th></th>\n",
       "      <th>company_permalink</th>\n",
       "      <th>funding_round_permalink</th>\n",
       "      <th>funding_round_type</th>\n",
       "      <th>funding_round_code</th>\n",
       "      <th>funded_at</th>\n",
       "      <th>raised_amount_usd</th>\n",
       "    </tr>\n",
       "  </thead>\n",
       "  <tbody>\n",
       "    <tr>\n",
       "      <th>0</th>\n",
       "      <td>/organization/-fame</td>\n",
       "      <td>/funding-round/9a01d05418af9f794eebff7ace91f638</td>\n",
       "      <td>venture</td>\n",
       "      <td>B</td>\n",
       "      <td>05-01-2015</td>\n",
       "      <td>10000000.0</td>\n",
       "    </tr>\n",
       "    <tr>\n",
       "      <th>1</th>\n",
       "      <td>/organization/-qounter</td>\n",
       "      <td>/funding-round/22dacff496eb7acb2b901dec1dfe5633</td>\n",
       "      <td>venture</td>\n",
       "      <td>A</td>\n",
       "      <td>14-10-2014</td>\n",
       "      <td>NaN</td>\n",
       "    </tr>\n",
       "    <tr>\n",
       "      <th>2</th>\n",
       "      <td>/organization/-qounter</td>\n",
       "      <td>/funding-round/b44fbb94153f6cdef13083530bb48030</td>\n",
       "      <td>seed</td>\n",
       "      <td>NaN</td>\n",
       "      <td>01-03-2014</td>\n",
       "      <td>700000.0</td>\n",
       "    </tr>\n",
       "    <tr>\n",
       "      <th>3</th>\n",
       "      <td>/organization/-the-one-of-them-inc-</td>\n",
       "      <td>/funding-round/650b8f704416801069bb178a1418776b</td>\n",
       "      <td>venture</td>\n",
       "      <td>B</td>\n",
       "      <td>30-01-2014</td>\n",
       "      <td>3406878.0</td>\n",
       "    </tr>\n",
       "    <tr>\n",
       "      <th>4</th>\n",
       "      <td>/organization/0-6-com</td>\n",
       "      <td>/funding-round/5727accaeaa57461bd22a9bdd945382d</td>\n",
       "      <td>venture</td>\n",
       "      <td>A</td>\n",
       "      <td>19-03-2008</td>\n",
       "      <td>2000000.0</td>\n",
       "    </tr>\n",
       "  </tbody>\n",
       "</table>\n",
       "</div>"
      ],
      "text/plain": [
       "                     company_permalink  \\\n",
       "0                  /organization/-fame   \n",
       "1               /organization/-qounter   \n",
       "2               /organization/-qounter   \n",
       "3  /organization/-the-one-of-them-inc-   \n",
       "4                /organization/0-6-com   \n",
       "\n",
       "                           funding_round_permalink funding_round_type  \\\n",
       "0  /funding-round/9a01d05418af9f794eebff7ace91f638            venture   \n",
       "1  /funding-round/22dacff496eb7acb2b901dec1dfe5633            venture   \n",
       "2  /funding-round/b44fbb94153f6cdef13083530bb48030               seed   \n",
       "3  /funding-round/650b8f704416801069bb178a1418776b            venture   \n",
       "4  /funding-round/5727accaeaa57461bd22a9bdd945382d            venture   \n",
       "\n",
       "  funding_round_code   funded_at  raised_amount_usd  \n",
       "0                  B  05-01-2015         10000000.0  \n",
       "1                  A  14-10-2014                NaN  \n",
       "2                NaN  01-03-2014           700000.0  \n",
       "3                  B  30-01-2014          3406878.0  \n",
       "4                  A  19-03-2008          2000000.0  "
      ]
     },
     "execution_count": 5,
     "metadata": {},
     "output_type": "execute_result"
    }
   ],
   "source": [
    "rounds2.head()"
   ]
  },
  {
   "cell_type": "code",
   "execution_count": 6,
   "metadata": {},
   "outputs": [],
   "source": [
    "# inner merge on permalink\n",
    "master_frame = companies.join(rounds2.set_index(['company_permalink']), how='inner', on='permalink')"
   ]
  },
  {
   "cell_type": "code",
   "execution_count": 7,
   "metadata": {},
   "outputs": [
    {
     "name": "stdout",
     "output_type": "stream",
     "text": [
      "<class 'pandas.core.frame.DataFrame'>\n",
      "Int64Index: 114942 entries, 0 to 66367\n",
      "Data columns (total 15 columns):\n",
      "permalink                  114942 non-null object\n",
      "name                       114941 non-null object\n",
      "homepage_url               108810 non-null object\n",
      "category_list              111535 non-null object\n",
      "status                     114942 non-null object\n",
      "country_code               106271 non-null object\n",
      "state_code                 104003 non-null object\n",
      "region                     104782 non-null object\n",
      "city                       104785 non-null object\n",
      "founded_at                 94422 non-null object\n",
      "funding_round_permalink    114942 non-null object\n",
      "funding_round_type         114942 non-null object\n",
      "funding_round_code         31139 non-null object\n",
      "funded_at                  114942 non-null object\n",
      "raised_amount_usd          94958 non-null float64\n",
      "dtypes: float64(1), object(14)\n",
      "memory usage: 14.0+ MB\n"
     ]
    }
   ],
   "source": [
    "master_frame.info()"
   ]
  },
  {
   "cell_type": "code",
   "execution_count": 8,
   "metadata": {},
   "outputs": [
    {
     "name": "stdout",
     "output_type": "stream",
     "text": [
      "<class 'pandas.core.frame.DataFrame'>\n",
      "Int64Index: 114942 entries, 0 to 66367\n",
      "Data columns (total 6 columns):\n",
      "permalink             114942 non-null object\n",
      "name                  114941 non-null object\n",
      "category_list         111535 non-null object\n",
      "country_code          106271 non-null object\n",
      "funding_round_type    114942 non-null object\n",
      "raised_amount_usd     94958 non-null float64\n",
      "dtypes: float64(1), object(5)\n",
      "memory usage: 6.1+ MB\n"
     ]
    }
   ],
   "source": [
    "# Data cleanup - drop irrelevant columns\n",
    "master_frame = master_frame.drop(columns=['status', 'state_code', \n",
    "                                          'region', 'city', 'founded_at', \n",
    "                                          'funding_round_permalink', 'funding_round_code', \n",
    "                                          'funded_at', 'homepage_url'])\n",
    "master_frame.info()"
   ]
  },
  {
   "cell_type": "code",
   "execution_count": 9,
   "metadata": {},
   "outputs": [
    {
     "name": "stdout",
     "output_type": "stream",
     "text": [
      "Percentage of missing values\n",
      "permalink              0.00\n",
      "name                   0.00\n",
      "category_list          2.96\n",
      "country_code           7.54\n",
      "funding_round_type     0.00\n",
      "raised_amount_usd     17.39\n",
      "dtype: float64\n"
     ]
    }
   ],
   "source": [
    "# Data cleanup - find the percentage of missing values\n",
    "def print_missing_values(df):\n",
    "    print('Percentage of missing values\\n{}'.format(((df.isnull().sum()/len(df.index)) * 100).round(2)))\n",
    "    \n",
    "print_missing_values(master_frame)"
   ]
  },
  {
   "cell_type": "code",
   "execution_count": 10,
   "metadata": {},
   "outputs": [
    {
     "name": "stdout",
     "output_type": "stream",
     "text": [
      "Percentage of missing values\n",
      "permalink             0.0\n",
      "name                  0.0\n",
      "category_list         0.0\n",
      "country_code          0.0\n",
      "funding_round_type    0.0\n",
      "raised_amount_usd     0.0\n",
      "dtype: float64\n"
     ]
    }
   ],
   "source": [
    "# cleanup 'raised_amount_usd'  missing values by dropping them\n",
    "master_frame.dropna(subset=['raised_amount_usd'], inplace=True)\n",
    "# cleanup category_list and country code  missing values by imputing them to their mode values\n",
    "master_frame['category_list'] = master_frame['category_list'].fillna(master_frame['category_list'].mode()[0])\n",
    "master_frame['country_code'] = master_frame['country_code'].fillna(master_frame['country_code'].mode()[0])\n",
    "\n",
    "print_missing_values(master_frame)"
   ]
  },
  {
   "cell_type": "code",
   "execution_count": 11,
   "metadata": {},
   "outputs": [
    {
     "data": {
      "image/png": "[encoded data removed]",
      "text/plain": [
       "<Figure size 1152x864 with 8 Axes>"
      ]
     },
     "metadata": {
      "needs_background": "light"
     },
     "output_type": "display_data"
    }
   ],
   "source": [
    "# Data cleanup - remove outliers\n",
    "outlier_frame = master_frame.copy()\n",
    "\n",
    "plt.figure(figsize=[16, 12])\n",
    "\n",
    "fund_types = ['seed', 'angel', 'venture', 'private_equity']\n",
    "\n",
    "# box plots\n",
    "for i, fund_type in enumerate(fund_types):\n",
    "    plt.subplot(2, 4, i+1)\n",
    "    outlier_frame[outlier_frame['funding_round_type'] == fund_type].boxplot(['raised_amount_usd'])\n",
    "\n",
    "def filter_out_percentile(series):\n",
    "    filter_percentile = np.percentile(series, 95)\n",
    "    return series <= filter_percentile\n",
    "\n",
    "# remove outliers in each of the funding types\n",
    "outlier_frame = outlier_frame[outlier_frame.groupby('funding_round_type')['raised_amount_usd'].transform(lambda x: filter_out_percentile(x))]\n",
    "\n",
    "# box plots    \n",
    "for i, fund_type in enumerate(fund_types):\n",
    "    plt.subplot(2, 4, i+5)\n",
    "    outlier_frame[outlier_frame['funding_round_type'] == fund_type].boxplot(['raised_amount_usd'])\n",
    "\n",
    "plt.show()\n",
    "\n",
    "master_frame = outlier_frame.copy()"
   ]
  },
  {
   "cell_type": "code",
   "execution_count": 12,
   "metadata": {},
   "outputs": [
    {
     "name": "stdout",
     "output_type": "stream",
     "text": [
      "Average funding amount:{'venture': 7609093.03, 'angel': 564802.81, 'seed': 520533.95, 'private_equity': 43614888.52}\n"
     ]
    }
   ],
   "source": [
    "# get average funding for each funding type\n",
    "funding_type_averages = {}\n",
    "fund_types = ['venture', 'angel', 'seed', 'private_equity']\n",
    "\n",
    "mean_df = master_frame.groupby('funding_round_type')['raised_amount_usd'].mean().round(2)\n",
    "for fund_type in fund_types:\n",
    "    funding_type_averages[fund_type] = mean_df[fund_type]\n",
    "\n",
    "print(f'Average funding amount:{funding_type_averages}')"
   ]
  },
  {
   "cell_type": "code",
   "execution_count": 13,
   "metadata": {},
   "outputs": [],
   "source": [
    "selected_funding_type = None\n",
    "for fund_type in fund_types:\n",
    "    if (funding_type_averages[fund_type] >= 5000000) and (funding_type_averages[fund_type] <= 15000000):\n",
    "        selected_funding_type = fund_type\n",
    "        break\n",
    "\n",
    "fund_type_master_frame = master_frame[master_frame['funding_round_type']==selected_funding_type]\n",
    "        \n",
    "top9 = fund_type_master_frame.groupby('country_code')['raised_amount_usd'].sum().sort_values(ascending=False).head(9)"
   ]
  },
  {
   "cell_type": "code",
   "execution_count": 14,
   "metadata": {},
   "outputs": [
    {
     "data": {
      "text/plain": [
       "country_code\n",
       "USA    2.825398e+11\n",
       "GBR    1.417446e+10\n",
       "CHN    1.371721e+10\n",
       "CAN    8.057730e+09\n",
       "IND    7.011359e+09\n",
       "ISR    6.074515e+09\n",
       "FRA    5.599263e+09\n",
       "DEU    4.228129e+09\n",
       "CHE    2.053605e+09\n",
       "Name: raised_amount_usd, dtype: float64"
      ]
     },
     "execution_count": 14,
     "metadata": {},
     "output_type": "execute_result"
    }
   ],
   "source": [
    "# top 9 countries in terms of veture investment across sectors \n",
    "top9"
   ]
  },
  {
   "cell_type": "code",
   "execution_count": 15,
   "metadata": {},
   "outputs": [
    {
     "name": "stdout",
     "output_type": "stream",
     "text": [
      "{'RWA', 'BHS', 'FJI', 'GUY', 'VCT', 'SGP', 'MHL', 'CAN', 'KIR', 'TON', 'ATG', 'NGA', 'PLW', 'ZWE', 'PAK', 'MUS', 'KEN', 'GBR', 'PNG', 'TZA', 'LBR', 'GHA', 'FSM', 'NIU', 'KNA', 'ZAF', 'SSD', 'LSO', 'SDN', 'BDI', 'JAM', 'ZMB', 'TTO', 'TUV', 'VUT', 'MLT', 'BLZ', 'LCA', 'SLB', 'DMA', 'USA', 'AUS', 'WSM', 'UGA', 'GMB', 'GRD', 'NZL', 'PHL', 'CMR', 'MWI', 'SYC', 'COK', 'IND', 'IRL', 'SWZ', 'SLE', 'BRB', 'BWA', 'NAM'}\n",
      "Top 3 English speaking countries in the list:\n",
      "['USA', 'GBR', 'CAN']\n"
     ]
    }
   ],
   "source": [
    "# programatically figure out the top 3 English speaking countries\n",
    "list_of_english_speaking_country_codes = set()\n",
    "\n",
    "import requests\n",
    "website_url = requests.get('https://en.wikipedia.org/wiki/List_of_territorial_entities_where_English_is_an_official_language').text\n",
    "from bs4 import BeautifulSoup\n",
    "soup = BeautifulSoup(website_url, 'lxml')\n",
    "tables = soup.findAll('table', {'class':'wikitable sortable'})\n",
    "\n",
    "# table 1\n",
    "for row in tables[0].find('tbody').findAll('tr'):\n",
    "    tds = row.findAll('td')\n",
    "    if tds:\n",
    "        item = tds[2]\n",
    "        code = str(item).replace('<td>','').replace('\\n</td>', '')\n",
    "        if code:\n",
    "            list_of_english_speaking_country_codes.add(code)\n",
    "\n",
    "# table 2\n",
    "for row in tables[1].find('tbody').findAll('tr'):\n",
    "    tds = row.findAll('td')\n",
    "    if tds:\n",
    "        item = tds[2]\n",
    "        code = str(item).replace('<td>','').replace('\\n</td>', '')\n",
    "        if code:\n",
    "            list_of_english_speaking_country_codes.add(code)\n",
    "        \n",
    "print(list_of_english_speaking_country_codes)\n",
    "\n",
    "top3_english_speaking_countries = []\n",
    "for top in top9.index:\n",
    "    if top in list_of_english_speaking_country_codes:\n",
    "        top3_english_speaking_countries.append(top)\n",
    "top3_english_speaking_countries = top3_english_speaking_countries[0:3]\n",
    "print(f'Top 3 English speaking countries in the list:\\n{top3_english_speaking_countries}')"
   ]
  },
  {
   "cell_type": "code",
   "execution_count": 16,
   "metadata": {},
   "outputs": [
    {
     "data": {
      "text/html": [
       "<div>\n",
       "<style scoped>\n",
       "    .dataframe tbody tr th:only-of-type {\n",
       "        vertical-align: middle;\n",
       "    }\n",
       "\n",
       "    .dataframe tbody tr th {\n",
       "        vertical-align: top;\n",
       "    }\n",
       "\n",
       "    .dataframe thead th {\n",
       "        text-align: right;\n",
       "    }\n",
       "</style>\n",
       "<table border=\"1\" class=\"dataframe\">\n",
       "  <thead>\n",
       "    <tr style=\"text-align: right;\">\n",
       "      <th></th>\n",
       "      <th>category_list</th>\n",
       "      <th>Automotive &amp; Sports</th>\n",
       "      <th>Cleantech / Semiconductors</th>\n",
       "      <th>Entertainment</th>\n",
       "      <th>Health</th>\n",
       "      <th>Manufacturing</th>\n",
       "      <th>News, Search and Messaging</th>\n",
       "      <th>Others</th>\n",
       "      <th>Social, Finance, Analytics, Advertising</th>\n",
       "    </tr>\n",
       "  </thead>\n",
       "  <tbody>\n",
       "    <tr>\n",
       "      <th>1</th>\n",
       "      <td>3D</td>\n",
       "      <td>0</td>\n",
       "      <td>0</td>\n",
       "      <td>0</td>\n",
       "      <td>0</td>\n",
       "      <td>1</td>\n",
       "      <td>0</td>\n",
       "      <td>0</td>\n",
       "      <td>0</td>\n",
       "    </tr>\n",
       "    <tr>\n",
       "      <th>2</th>\n",
       "      <td>3D Printing</td>\n",
       "      <td>0</td>\n",
       "      <td>0</td>\n",
       "      <td>0</td>\n",
       "      <td>0</td>\n",
       "      <td>1</td>\n",
       "      <td>0</td>\n",
       "      <td>0</td>\n",
       "      <td>0</td>\n",
       "    </tr>\n",
       "    <tr>\n",
       "      <th>3</th>\n",
       "      <td>3D Technology</td>\n",
       "      <td>0</td>\n",
       "      <td>0</td>\n",
       "      <td>0</td>\n",
       "      <td>0</td>\n",
       "      <td>1</td>\n",
       "      <td>0</td>\n",
       "      <td>0</td>\n",
       "      <td>0</td>\n",
       "    </tr>\n",
       "    <tr>\n",
       "      <th>4</th>\n",
       "      <td>Accounting</td>\n",
       "      <td>0</td>\n",
       "      <td>0</td>\n",
       "      <td>0</td>\n",
       "      <td>0</td>\n",
       "      <td>0</td>\n",
       "      <td>0</td>\n",
       "      <td>0</td>\n",
       "      <td>1</td>\n",
       "    </tr>\n",
       "    <tr>\n",
       "      <th>5</th>\n",
       "      <td>Active Lifestyle</td>\n",
       "      <td>0</td>\n",
       "      <td>0</td>\n",
       "      <td>0</td>\n",
       "      <td>1</td>\n",
       "      <td>0</td>\n",
       "      <td>0</td>\n",
       "      <td>0</td>\n",
       "      <td>0</td>\n",
       "    </tr>\n",
       "  </tbody>\n",
       "</table>\n",
       "</div>"
      ],
      "text/plain": [
       "      category_list  Automotive & Sports  Cleantech / Semiconductors  \\\n",
       "1                3D                    0                           0   \n",
       "2       3D Printing                    0                           0   \n",
       "3     3D Technology                    0                           0   \n",
       "4        Accounting                    0                           0   \n",
       "5  Active Lifestyle                    0                           0   \n",
       "\n",
       "   Entertainment  Health  Manufacturing  News, Search and Messaging  Others  \\\n",
       "1              0       0              1                           0       0   \n",
       "2              0       0              1                           0       0   \n",
       "3              0       0              1                           0       0   \n",
       "4              0       0              0                           0       0   \n",
       "5              0       1              0                           0       0   \n",
       "\n",
       "   Social, Finance, Analytics, Advertising  \n",
       "1                                        0  \n",
       "2                                        0  \n",
       "3                                        0  \n",
       "4                                        1  \n",
       "5                                        0  "
      ]
     },
     "execution_count": 16,
     "metadata": {},
     "output_type": "execute_result"
    }
   ],
   "source": [
    "# read mappings file\n",
    "map_df = pd.read_csv('mapping.csv')\n",
    "\n",
    "# drop NaN row and Blanks column\n",
    "map_df = map_df.drop(columns=['Blanks'])\n",
    "map_df = map_df.dropna()\n",
    "map_df.head()"
   ]
  },
  {
   "cell_type": "code",
   "execution_count": 17,
   "metadata": {},
   "outputs": [
    {
     "data": {
      "text/html": [
       "<div>\n",
       "<style scoped>\n",
       "    .dataframe tbody tr th:only-of-type {\n",
       "        vertical-align: middle;\n",
       "    }\n",
       "\n",
       "    .dataframe tbody tr th {\n",
       "        vertical-align: top;\n",
       "    }\n",
       "\n",
       "    .dataframe thead th {\n",
       "        text-align: right;\n",
       "    }\n",
       "</style>\n",
       "<table border=\"1\" class=\"dataframe\">\n",
       "  <thead>\n",
       "    <tr style=\"text-align: right;\">\n",
       "      <th></th>\n",
       "      <th>permalink</th>\n",
       "      <th>name</th>\n",
       "      <th>category_list</th>\n",
       "      <th>country_code</th>\n",
       "      <th>funding_round_type</th>\n",
       "      <th>raised_amount_usd</th>\n",
       "      <th>primary_sector</th>\n",
       "    </tr>\n",
       "  </thead>\n",
       "  <tbody>\n",
       "    <tr>\n",
       "      <th>0</th>\n",
       "      <td>/organization/-fame</td>\n",
       "      <td>#fame</td>\n",
       "      <td>Media</td>\n",
       "      <td>IND</td>\n",
       "      <td>venture</td>\n",
       "      <td>10000000.0</td>\n",
       "      <td>Media</td>\n",
       "    </tr>\n",
       "    <tr>\n",
       "      <th>1</th>\n",
       "      <td>/organization/-qounter</td>\n",
       "      <td>:Qounter</td>\n",
       "      <td>Application Platforms|Real Time|Social Network...</td>\n",
       "      <td>USA</td>\n",
       "      <td>seed</td>\n",
       "      <td>700000.0</td>\n",
       "      <td>Application Platforms</td>\n",
       "    </tr>\n",
       "    <tr>\n",
       "      <th>2</th>\n",
       "      <td>/organization/-the-one-of-them-inc-</td>\n",
       "      <td>(THE) ONE of THEM,Inc.</td>\n",
       "      <td>Apps|Games|Mobile</td>\n",
       "      <td>USA</td>\n",
       "      <td>venture</td>\n",
       "      <td>3406878.0</td>\n",
       "      <td>Apps</td>\n",
       "    </tr>\n",
       "    <tr>\n",
       "      <th>3</th>\n",
       "      <td>/organization/0-6-com</td>\n",
       "      <td>0-6.com</td>\n",
       "      <td>Curated Web</td>\n",
       "      <td>CHN</td>\n",
       "      <td>venture</td>\n",
       "      <td>2000000.0</td>\n",
       "      <td>Curated Web</td>\n",
       "    </tr>\n",
       "    <tr>\n",
       "      <th>5</th>\n",
       "      <td>/organization/01games-technology</td>\n",
       "      <td>01Games Technology</td>\n",
       "      <td>Games</td>\n",
       "      <td>HKG</td>\n",
       "      <td>undisclosed</td>\n",
       "      <td>41250.0</td>\n",
       "      <td>Games</td>\n",
       "    </tr>\n",
       "  </tbody>\n",
       "</table>\n",
       "</div>"
      ],
      "text/plain": [
       "                             permalink                    name  \\\n",
       "0                  /organization/-fame                   #fame   \n",
       "1               /organization/-qounter                :Qounter   \n",
       "2  /organization/-the-one-of-them-inc-  (THE) ONE of THEM,Inc.   \n",
       "3                /organization/0-6-com                 0-6.com   \n",
       "5     /organization/01games-technology      01Games Technology   \n",
       "\n",
       "                                       category_list country_code  \\\n",
       "0                                              Media          IND   \n",
       "1  Application Platforms|Real Time|Social Network...          USA   \n",
       "2                                  Apps|Games|Mobile          USA   \n",
       "3                                        Curated Web          CHN   \n",
       "5                                              Games          HKG   \n",
       "\n",
       "  funding_round_type  raised_amount_usd         primary_sector  \n",
       "0            venture         10000000.0                  Media  \n",
       "1               seed           700000.0  Application Platforms  \n",
       "2            venture          3406878.0                   Apps  \n",
       "3            venture          2000000.0            Curated Web  \n",
       "5        undisclosed            41250.0                  Games  "
      ]
     },
     "execution_count": 17,
     "metadata": {},
     "output_type": "execute_result"
    }
   ],
   "source": [
    "# update primary sector in master dataframe\n",
    "master_frame['primary_sector'] = master_frame['category_list'].str.split('|').str[0]\n",
    "master_frame.head()"
   ]
  },
  {
   "cell_type": "code",
   "execution_count": 18,
   "metadata": {},
   "outputs": [
    {
     "data": {
      "text/html": [
       "<div>\n",
       "<style scoped>\n",
       "    .dataframe tbody tr th:only-of-type {\n",
       "        vertical-align: middle;\n",
       "    }\n",
       "\n",
       "    .dataframe tbody tr th {\n",
       "        vertical-align: top;\n",
       "    }\n",
       "\n",
       "    .dataframe thead th {\n",
       "        text-align: right;\n",
       "    }\n",
       "</style>\n",
       "<table border=\"1\" class=\"dataframe\">\n",
       "  <thead>\n",
       "    <tr style=\"text-align: right;\">\n",
       "      <th></th>\n",
       "      <th>category_list</th>\n",
       "      <th>main_sector</th>\n",
       "    </tr>\n",
       "  </thead>\n",
       "  <tbody>\n",
       "    <tr>\n",
       "      <th>1</th>\n",
       "      <td>3D</td>\n",
       "      <td>Manufacturing</td>\n",
       "    </tr>\n",
       "    <tr>\n",
       "      <th>2</th>\n",
       "      <td>3D Printing</td>\n",
       "      <td>Manufacturing</td>\n",
       "    </tr>\n",
       "    <tr>\n",
       "      <th>3</th>\n",
       "      <td>3D Technology</td>\n",
       "      <td>Manufacturing</td>\n",
       "    </tr>\n",
       "    <tr>\n",
       "      <th>4</th>\n",
       "      <td>Accounting</td>\n",
       "      <td>Social, Finance, Analytics, Advertising</td>\n",
       "    </tr>\n",
       "    <tr>\n",
       "      <th>5</th>\n",
       "      <td>Active Lifestyle</td>\n",
       "      <td>Health</td>\n",
       "    </tr>\n",
       "  </tbody>\n",
       "</table>\n",
       "</div>"
      ],
      "text/plain": [
       "      category_list                              main_sector\n",
       "1                3D                            Manufacturing\n",
       "2       3D Printing                            Manufacturing\n",
       "3     3D Technology                            Manufacturing\n",
       "4        Accounting  Social, Finance, Analytics, Advertising\n",
       "5  Active Lifestyle                                   Health"
      ]
     },
     "execution_count": 18,
     "metadata": {},
     "output_type": "execute_result"
    }
   ],
   "source": [
    "# create a copy of mapping dataset\n",
    "mapped_df = map_df.filter(['category_list'], axis=1)\n",
    "\n",
    "# function to get column name with value one for each row in mapping dataframe\n",
    "def get_main_sector(row):\n",
    "    return(row.index[row.apply(lambda x: x==1)][0])\n",
    "    \n",
    "# prepare a main_sector column which contains the mapping of primary sector\n",
    "mapped_df['main_sector'] = map_df.apply(lambda row:get_main_sector(row), axis=1)\n",
    "mapped_df.head()"
   ]
  },
  {
   "cell_type": "code",
   "execution_count": 19,
   "metadata": {},
   "outputs": [
    {
     "data": {
      "text/html": [
       "<div>\n",
       "<style scoped>\n",
       "    .dataframe tbody tr th:only-of-type {\n",
       "        vertical-align: middle;\n",
       "    }\n",
       "\n",
       "    .dataframe tbody tr th {\n",
       "        vertical-align: top;\n",
       "    }\n",
       "\n",
       "    .dataframe thead th {\n",
       "        text-align: right;\n",
       "    }\n",
       "</style>\n",
       "<table border=\"1\" class=\"dataframe\">\n",
       "  <thead>\n",
       "    <tr style=\"text-align: right;\">\n",
       "      <th></th>\n",
       "      <th>permalink</th>\n",
       "      <th>name</th>\n",
       "      <th>category_list</th>\n",
       "      <th>country_code</th>\n",
       "      <th>funding_round_type</th>\n",
       "      <th>raised_amount_usd</th>\n",
       "      <th>primary_sector</th>\n",
       "      <th>main_sector</th>\n",
       "    </tr>\n",
       "  </thead>\n",
       "  <tbody>\n",
       "    <tr>\n",
       "      <th>0</th>\n",
       "      <td>/organization/-fame</td>\n",
       "      <td>#fame</td>\n",
       "      <td>Media</td>\n",
       "      <td>IND</td>\n",
       "      <td>venture</td>\n",
       "      <td>10000000.0</td>\n",
       "      <td>Media</td>\n",
       "      <td>Entertainment</td>\n",
       "    </tr>\n",
       "    <tr>\n",
       "      <th>547</th>\n",
       "      <td>/organization/90min</td>\n",
       "      <td>90min</td>\n",
       "      <td>Media|News|Publishing|Soccer|Sports</td>\n",
       "      <td>GBR</td>\n",
       "      <td>venture</td>\n",
       "      <td>15000000.0</td>\n",
       "      <td>Media</td>\n",
       "      <td>Entertainment</td>\n",
       "    </tr>\n",
       "    <tr>\n",
       "      <th>547</th>\n",
       "      <td>/organization/90min</td>\n",
       "      <td>90min</td>\n",
       "      <td>Media|News|Publishing|Soccer|Sports</td>\n",
       "      <td>GBR</td>\n",
       "      <td>venture</td>\n",
       "      <td>5800000.0</td>\n",
       "      <td>Media</td>\n",
       "      <td>Entertainment</td>\n",
       "    </tr>\n",
       "    <tr>\n",
       "      <th>547</th>\n",
       "      <td>/organization/90min</td>\n",
       "      <td>90min</td>\n",
       "      <td>Media|News|Publishing|Soccer|Sports</td>\n",
       "      <td>GBR</td>\n",
       "      <td>venture</td>\n",
       "      <td>18000000.0</td>\n",
       "      <td>Media</td>\n",
       "      <td>Entertainment</td>\n",
       "    </tr>\n",
       "    <tr>\n",
       "      <th>608</th>\n",
       "      <td>/organization/a-dance-for-me</td>\n",
       "      <td>A Dance for Me</td>\n",
       "      <td>Media|News|Photo Sharing|Video</td>\n",
       "      <td>USA</td>\n",
       "      <td>equity_crowdfunding</td>\n",
       "      <td>1090000.0</td>\n",
       "      <td>Media</td>\n",
       "      <td>Entertainment</td>\n",
       "    </tr>\n",
       "  </tbody>\n",
       "</table>\n",
       "</div>"
      ],
      "text/plain": [
       "                        permalink            name  \\\n",
       "0             /organization/-fame           #fame   \n",
       "547           /organization/90min           90min   \n",
       "547           /organization/90min           90min   \n",
       "547           /organization/90min           90min   \n",
       "608  /organization/a-dance-for-me  A Dance for Me   \n",
       "\n",
       "                           category_list country_code   funding_round_type  \\\n",
       "0                                  Media          IND              venture   \n",
       "547  Media|News|Publishing|Soccer|Sports          GBR              venture   \n",
       "547  Media|News|Publishing|Soccer|Sports          GBR              venture   \n",
       "547  Media|News|Publishing|Soccer|Sports          GBR              venture   \n",
       "608       Media|News|Photo Sharing|Video          USA  equity_crowdfunding   \n",
       "\n",
       "     raised_amount_usd primary_sector    main_sector  \n",
       "0           10000000.0          Media  Entertainment  \n",
       "547         15000000.0          Media  Entertainment  \n",
       "547          5800000.0          Media  Entertainment  \n",
       "547         18000000.0          Media  Entertainment  \n",
       "608          1090000.0          Media  Entertainment  "
      ]
     },
     "execution_count": 19,
     "metadata": {},
     "output_type": "execute_result"
    }
   ],
   "source": [
    "# merge master df with a mapping to main sector\n",
    "merged_df = master_frame.join(mapped_df.set_index('category_list'), on='primary_sector', how='inner')\n",
    "\n",
    "master_frame = merged_df.copy()\n",
    "master_frame.head()\n"
   ]
  },
  {
   "cell_type": "code",
   "execution_count": 20,
   "metadata": {},
   "outputs": [],
   "source": [
    "# filter out top funding type and range of funding from master_frame\n",
    "fund_type_range_master_frame = master_frame[(master_frame['funding_round_type'] == selected_funding_type) \\\n",
    "                                            & (master_frame['raised_amount_usd'] <= 15000000) \\\n",
    "                                            & (master_frame['raised_amount_usd'] >= 5000000)]\n",
    "\n",
    "D1 = fund_type_range_master_frame[(fund_type_range_master_frame['country_code'] == top3_english_speaking_countries[0])]\n",
    "D2 = fund_type_range_master_frame[(fund_type_range_master_frame['country_code'] == top3_english_speaking_countries[1])]\n",
    "D3 = fund_type_range_master_frame[(fund_type_range_master_frame['country_code'] == top3_english_speaking_countries[2])]"
   ]
  },
  {
   "cell_type": "code",
   "execution_count": 21,
   "metadata": {},
   "outputs": [
    {
     "name": "stdout",
     "output_type": "stream",
     "text": [
      "Number of investments in USA: 11912\n",
      "Number of investments in GBR: 584\n",
      "Number of investments in CAN: 398\n"
     ]
    }
   ],
   "source": [
    "investment_count_D1 = D1['raised_amount_usd'].count()\n",
    "print(f'Number of investments in {top3_english_speaking_countries[0]}: {investment_count_D1}')\n",
    "investment_count_D2 = D2['raised_amount_usd'].count()\n",
    "print(f'Number of investments in {top3_english_speaking_countries[1]}: {investment_count_D2}')\n",
    "investment_count_D3 = D3['raised_amount_usd'].count()\n",
    "print(f'Number of investments in {top3_english_speaking_countries[2]}: {investment_count_D3}')"
   ]
  },
  {
   "cell_type": "code",
   "execution_count": 22,
   "metadata": {},
   "outputs": [
    {
     "name": "stdout",
     "output_type": "stream",
     "text": [
      "Amount of investments in USA: 106354355599.0\n",
      "Amount of investments in GBR: 5086469206.0\n",
      "Amount of investments in CAN: 3422009576.0\n"
     ]
    }
   ],
   "source": [
    "investment_amount_D1 = D1['raised_amount_usd'].sum()\n",
    "print(f'Amount of investments in {top3_english_speaking_countries[0]}: {investment_amount_D1}')\n",
    "investment_amount_D2 = D2['raised_amount_usd'].sum()\n",
    "print(f'Amount of investments in {top3_english_speaking_countries[1]}: {investment_amount_D2}')\n",
    "investment_amount_D3 = D3['raised_amount_usd'].sum()\n",
    "print(f'Amount of investments in {top3_english_speaking_countries[2]}: {investment_amount_D3}')"
   ]
  },
  {
   "cell_type": "code",
   "execution_count": 23,
   "metadata": {},
   "outputs": [
    {
     "name": "stderr",
     "output_type": "stream",
     "text": [
      "/home/shakeeb/anaconda3/lib/python3.7/site-packages/ipykernel_launcher.py:4: SettingWithCopyWarning: \n",
      "A value is trying to be set on a copy of a slice from a DataFrame.\n",
      "Try using .loc[row_indexer,col_indexer] = value instead\n",
      "\n",
      "See the caveats in the documentation: http://pandas.pydata.org/pandas-docs/stable/indexing.html#indexing-view-versus-copy\n",
      "  after removing the cwd from sys.path.\n",
      "/home/shakeeb/anaconda3/lib/python3.7/site-packages/ipykernel_launcher.py:8: SettingWithCopyWarning: \n",
      "A value is trying to be set on a copy of a slice from a DataFrame.\n",
      "Try using .loc[row_indexer,col_indexer] = value instead\n",
      "\n",
      "See the caveats in the documentation: http://pandas.pydata.org/pandas-docs/stable/indexing.html#indexing-view-versus-copy\n",
      "  \n"
     ]
    }
   ],
   "source": [
    "for D in [D1, D2, D3]:\n",
    "    # set counts for each main sector\n",
    "    group_by_df = D.groupby('main_sector').count()['raised_amount_usd']\n",
    "    D['investment_count'] = D['main_sector'].apply(lambda x: group_by_df[x])\n",
    "    \n",
    "    # set sum for each main sector\n",
    "    group_by_df = D.groupby('main_sector').sum()['raised_amount_usd']\n",
    "    D['investment_sum'] = D['main_sector'].apply(lambda x: group_by_df[x]) \n"
   ]
  },
  {
   "cell_type": "code",
   "execution_count": 24,
   "metadata": {},
   "outputs": [
    {
     "data": {
      "text/plain": [
       "main_sector                              investment_count\n",
       "Others                                   3063                3063\n",
       "Cleantech / Semiconductors               2548                2548\n",
       "Social, Finance, Analytics, Advertising  2008                2008\n",
       "Name: raised_amount_usd, dtype: int64"
      ]
     },
     "execution_count": 24,
     "metadata": {},
     "output_type": "execute_result"
    }
   ],
   "source": [
    "# top 3 sectors and their counts\n",
    "top_sectors_count_D1 = D1.groupby(['main_sector', 'investment_count'])['raised_amount_usd'].count().sort_values(ascending=False)\n",
    "top_3_sectors_D1 = top_sectors_count_D1[0:3]\n",
    "top_3_sectors_D1"
   ]
  },
  {
   "cell_type": "code",
   "execution_count": 25,
   "metadata": {},
   "outputs": [
    {
     "data": {
      "text/plain": [
       "main_sector                              investment_count\n",
       "Others                                   143                 143\n",
       "Cleantech / Semiconductors               134                 134\n",
       "Social, Finance, Analytics, Advertising  98                   98\n",
       "Name: raised_amount_usd, dtype: int64"
      ]
     },
     "execution_count": 25,
     "metadata": {},
     "output_type": "execute_result"
    }
   ],
   "source": [
    "top_sectors_count_D2 = D2.groupby(['main_sector', 'investment_count'])['raised_amount_usd'].count().sort_values(ascending=False)\n",
    "top_3_sectors_D2 = top_sectors_count_D2[0:3]\n",
    "top_3_sectors_D2"
   ]
  },
  {
   "cell_type": "code",
   "execution_count": 26,
   "metadata": {},
   "outputs": [
    {
     "data": {
      "text/plain": [
       "main_sector                              investment_count\n",
       "Cleantech / Semiconductors               116                 116\n",
       "Others                                   109                 109\n",
       "Social, Finance, Analytics, Advertising  52                   52\n",
       "Name: raised_amount_usd, dtype: int64"
      ]
     },
     "execution_count": 26,
     "metadata": {},
     "output_type": "execute_result"
    }
   ],
   "source": [
    "top_sectors_count_D3 = D3.groupby(['main_sector', 'investment_count'])['raised_amount_usd'].count().sort_values(ascending=False)\n",
    "top_3_sectors_D3 = top_sectors_count_D3[0:3]\n",
    "top_3_sectors_D3"
   ]
  },
  {
   "cell_type": "code",
   "execution_count": 27,
   "metadata": {},
   "outputs": [
    {
     "data": {
      "text/html": [
       "<div>\n",
       "<style scoped>\n",
       "    .dataframe tbody tr th:only-of-type {\n",
       "        vertical-align: middle;\n",
       "    }\n",
       "\n",
       "    .dataframe tbody tr th {\n",
       "        vertical-align: top;\n",
       "    }\n",
       "\n",
       "    .dataframe thead th {\n",
       "        text-align: right;\n",
       "    }\n",
       "</style>\n",
       "<table border=\"1\" class=\"dataframe\">\n",
       "  <thead>\n",
       "    <tr style=\"text-align: right;\">\n",
       "      <th></th>\n",
       "      <th>permalink</th>\n",
       "      <th>name</th>\n",
       "      <th>category_list</th>\n",
       "      <th>country_code</th>\n",
       "      <th>funding_round_type</th>\n",
       "      <th>raised_amount_usd</th>\n",
       "      <th>primary_sector</th>\n",
       "      <th>main_sector</th>\n",
       "      <th>investment_count</th>\n",
       "      <th>investment_sum</th>\n",
       "    </tr>\n",
       "  </thead>\n",
       "  <tbody>\n",
       "    <tr>\n",
       "      <th>118</th>\n",
       "      <td>/organization/1stdibs</td>\n",
       "      <td>1stdibs</td>\n",
       "      <td>E-Commerce</td>\n",
       "      <td>USA</td>\n",
       "      <td>venture</td>\n",
       "      <td>15000000.0</td>\n",
       "      <td>E-Commerce</td>\n",
       "      <td>Others</td>\n",
       "      <td>3063</td>\n",
       "      <td>2.722281e+10</td>\n",
       "    </tr>\n",
       "    <tr>\n",
       "      <th>31735</th>\n",
       "      <td>/organization/le-tote</td>\n",
       "      <td>LE TOTE</td>\n",
       "      <td>E-Commerce|Fashion</td>\n",
       "      <td>USA</td>\n",
       "      <td>venture</td>\n",
       "      <td>15000000.0</td>\n",
       "      <td>E-Commerce</td>\n",
       "      <td>Others</td>\n",
       "      <td>3063</td>\n",
       "      <td>2.722281e+10</td>\n",
       "    </tr>\n",
       "  </tbody>\n",
       "</table>\n",
       "</div>"
      ],
      "text/plain": [
       "                   permalink     name       category_list country_code  \\\n",
       "118    /organization/1stdibs  1stdibs          E-Commerce          USA   \n",
       "31735  /organization/le-tote  LE TOTE  E-Commerce|Fashion          USA   \n",
       "\n",
       "      funding_round_type  raised_amount_usd primary_sector main_sector  \\\n",
       "118              venture         15000000.0     E-Commerce      Others   \n",
       "31735            venture         15000000.0     E-Commerce      Others   \n",
       "\n",
       "       investment_count  investment_sum  \n",
       "118                3063    2.722281e+10  \n",
       "31735              3063    2.722281e+10  "
      ]
     },
     "execution_count": 27,
     "metadata": {},
     "output_type": "execute_result"
    }
   ],
   "source": [
    "D1[D1['main_sector'] == top_3_sectors_D1.index[0][0]].sort_values('raised_amount_usd', ascending=False).head(2)"
   ]
  },
  {
   "cell_type": "code",
   "execution_count": 28,
   "metadata": {},
   "outputs": [
    {
     "data": {
      "text/html": [
       "<div>\n",
       "<style scoped>\n",
       "    .dataframe tbody tr th:only-of-type {\n",
       "        vertical-align: middle;\n",
       "    }\n",
       "\n",
       "    .dataframe tbody tr th {\n",
       "        vertical-align: top;\n",
       "    }\n",
       "\n",
       "    .dataframe thead th {\n",
       "        text-align: right;\n",
       "    }\n",
       "</style>\n",
       "<table border=\"1\" class=\"dataframe\">\n",
       "  <thead>\n",
       "    <tr style=\"text-align: right;\">\n",
       "      <th></th>\n",
       "      <th>permalink</th>\n",
       "      <th>name</th>\n",
       "      <th>category_list</th>\n",
       "      <th>country_code</th>\n",
       "      <th>funding_round_type</th>\n",
       "      <th>raised_amount_usd</th>\n",
       "      <th>primary_sector</th>\n",
       "      <th>main_sector</th>\n",
       "      <th>investment_count</th>\n",
       "      <th>investment_sum</th>\n",
       "    </tr>\n",
       "  </thead>\n",
       "  <tbody>\n",
       "    <tr>\n",
       "      <th>59320</th>\n",
       "      <td>/organization/tribold</td>\n",
       "      <td>Tribold</td>\n",
       "      <td>Software</td>\n",
       "      <td>GBR</td>\n",
       "      <td>venture</td>\n",
       "      <td>15000000.0</td>\n",
       "      <td>Software</td>\n",
       "      <td>Others</td>\n",
       "      <td>143</td>\n",
       "      <td>1.249124e+09</td>\n",
       "    </tr>\n",
       "    <tr>\n",
       "      <th>50566</th>\n",
       "      <td>/organization/sensage</td>\n",
       "      <td>SenSage</td>\n",
       "      <td>Security</td>\n",
       "      <td>GBR</td>\n",
       "      <td>venture</td>\n",
       "      <td>15000000.0</td>\n",
       "      <td>Security</td>\n",
       "      <td>Others</td>\n",
       "      <td>143</td>\n",
       "      <td>1.249124e+09</td>\n",
       "    </tr>\n",
       "  </tbody>\n",
       "</table>\n",
       "</div>"
      ],
      "text/plain": [
       "                   permalink     name category_list country_code  \\\n",
       "59320  /organization/tribold  Tribold      Software          GBR   \n",
       "50566  /organization/sensage  SenSage      Security          GBR   \n",
       "\n",
       "      funding_round_type  raised_amount_usd primary_sector main_sector  \\\n",
       "59320            venture         15000000.0       Software      Others   \n",
       "50566            venture         15000000.0       Security      Others   \n",
       "\n",
       "       investment_count  investment_sum  \n",
       "59320               143    1.249124e+09  \n",
       "50566               143    1.249124e+09  "
      ]
     },
     "execution_count": 28,
     "metadata": {},
     "output_type": "execute_result"
    }
   ],
   "source": [
    "D2[D2['main_sector'] == top_3_sectors_D2.index[0][0]].sort_values('raised_amount_usd', ascending=False).head(2)"
   ]
  },
  {
   "cell_type": "code",
   "execution_count": 29,
   "metadata": {},
   "outputs": [
    {
     "data": {
      "text/html": [
       "<div>\n",
       "<style scoped>\n",
       "    .dataframe tbody tr th:only-of-type {\n",
       "        vertical-align: middle;\n",
       "    }\n",
       "\n",
       "    .dataframe tbody tr th {\n",
       "        vertical-align: top;\n",
       "    }\n",
       "\n",
       "    .dataframe thead th {\n",
       "        text-align: right;\n",
       "    }\n",
       "</style>\n",
       "<table border=\"1\" class=\"dataframe\">\n",
       "  <thead>\n",
       "    <tr style=\"text-align: right;\">\n",
       "      <th></th>\n",
       "      <th>permalink</th>\n",
       "      <th>name</th>\n",
       "      <th>category_list</th>\n",
       "      <th>country_code</th>\n",
       "      <th>funding_round_type</th>\n",
       "      <th>raised_amount_usd</th>\n",
       "      <th>primary_sector</th>\n",
       "      <th>main_sector</th>\n",
       "      <th>investment_count</th>\n",
       "      <th>investment_sum</th>\n",
       "    </tr>\n",
       "  </thead>\n",
       "  <tbody>\n",
       "    <tr>\n",
       "      <th>15486</th>\n",
       "      <td>/organization/diablo-technologies</td>\n",
       "      <td>Diablo Technologies</td>\n",
       "      <td>Semiconductors</td>\n",
       "      <td>CAN</td>\n",
       "      <td>venture</td>\n",
       "      <td>15000000.0</td>\n",
       "      <td>Semiconductors</td>\n",
       "      <td>Cleantech / Semiconductors</td>\n",
       "      <td>116</td>\n",
       "      <td>1.063607e+09</td>\n",
       "    </tr>\n",
       "    <tr>\n",
       "      <th>66344</th>\n",
       "      <td>/organization/zymeworks</td>\n",
       "      <td>Zymeworks</td>\n",
       "      <td>Biotechnology</td>\n",
       "      <td>CAN</td>\n",
       "      <td>venture</td>\n",
       "      <td>15000000.0</td>\n",
       "      <td>Biotechnology</td>\n",
       "      <td>Cleantech / Semiconductors</td>\n",
       "      <td>116</td>\n",
       "      <td>1.063607e+09</td>\n",
       "    </tr>\n",
       "  </tbody>\n",
       "</table>\n",
       "</div>"
      ],
      "text/plain": [
       "                               permalink                 name   category_list  \\\n",
       "15486  /organization/diablo-technologies  Diablo Technologies  Semiconductors   \n",
       "66344            /organization/zymeworks            Zymeworks   Biotechnology   \n",
       "\n",
       "      country_code funding_round_type  raised_amount_usd  primary_sector  \\\n",
       "15486          CAN            venture         15000000.0  Semiconductors   \n",
       "66344          CAN            venture         15000000.0   Biotechnology   \n",
       "\n",
       "                      main_sector  investment_count  investment_sum  \n",
       "15486  Cleantech / Semiconductors               116    1.063607e+09  \n",
       "66344  Cleantech / Semiconductors               116    1.063607e+09  "
      ]
     },
     "execution_count": 29,
     "metadata": {},
     "output_type": "execute_result"
    }
   ],
   "source": [
    "D3[D3['main_sector'] == top_3_sectors_D3.index[0][0]].sort_values('raised_amount_usd', ascending=False).head(2)"
   ]
  },
  {
   "cell_type": "code",
   "execution_count": 30,
   "metadata": {},
   "outputs": [],
   "source": [
    "# plotting\n",
    "\n",
    "# total investment across\n",
    "total_investment = master_frame['raised_amount_usd'].sum()\n",
    "\n",
    "# fraction of total investments in venture type\n",
    "sum_df = master_frame.groupby('funding_round_type').sum()\n",
    "venture_p = (sum_df.loc['venture']['raised_amount_usd'] / total_investment) * 100\n",
    "seed_p = (sum_df.loc['seed']['raised_amount_usd'] / total_investment) * 100\n",
    "pe_p = (sum_df.loc['private_equity']['raised_amount_usd'] / total_investment) * 100"
   ]
  },
  {
   "cell_type": "code",
   "execution_count": 31,
   "metadata": {},
   "outputs": [
    {
     "data": {
      "image/png": "[encoded data removed]",
      "text/plain": [
       "<Figure size 1152x432 with 2 Axes>"
      ]
     },
     "metadata": {
      "needs_background": "light"
     },
     "output_type": "display_data"
    }
   ],
   "source": [
    "plt.figure(figsize=(16,6))\n",
    "\n",
    "# subplot 1\n",
    "plt.subplot(1, 2, 1)\n",
    "\n",
    "# Pie chart, where the slices will be ordered and plotted counter-clockwise:\n",
    "labels = 'venture', 'seed', 'private equity', 'others'\n",
    "sizes = [venture_p, seed_p, pe_p, 100-(venture_p + seed_p + pe_p)]\n",
    "explode = (0.1, 0, 0, 0)  # only \"explode\" the venture slice\n",
    "\n",
    "plt.pie(sizes, explode=explode, labels=labels, autopct='%1.2f%%',\n",
    "        shadow=False, startangle=90)\n",
    "plt.axis('equal')  # Equal aspect ratio ensures that pie is drawn as a circle.\n",
    "plt.title('Fraction of investments for each funding type out of total investments')\n",
    "\n",
    "# subplot 2\n",
    "plt.subplot(1, 2, 2)\n",
    "\n",
    "# Bar chart denoting the average investments in venture, seed and private_equity\n",
    "labels = ('venture', 'seed', 'private equity')\n",
    "sizes = [funding_type_averages['venture']/1000000,\n",
    "         funding_type_averages['seed']/1000000,\n",
    "         funding_type_averages['private_equity']/1000000]\n",
    "plt.bar(labels, sizes, align='center', alpha=0.5)\n",
    "# Put numerical values as text on bars\n",
    "for i, x in enumerate(sizes):\n",
    "    plt.text(i, x+1, s=f\"{x:.2f}\" , fontdict=dict(fontsize=12))\n",
    "\n",
    "plt.ylabel('Avg funding in million dollars')\n",
    "plt.title('Avg investment by funding type')\n",
    "\n",
    "plt.show()"
   ]
  },
  {
   "cell_type": "code",
   "execution_count": 32,
   "metadata": {},
   "outputs": [
    {
     "data": {
      "image/png": "[encoded data removed]",
      "text/plain": [
       "<Figure size 1152x432 with 1 Axes>"
      ]
     },
     "metadata": {
      "needs_background": "light"
     },
     "output_type": "display_data"
    }
   ],
   "source": [
    "plt.figure(figsize=(16,6))\n",
    "plt.subplot(1, 1, 1)\n",
    "\n",
    "labels = top9.index\n",
    "plt.barh(labels, top9, align='center', alpha=0.5)\n",
    "\n",
    "plt.ylabel('Countries')\n",
    "plt.title('Top 9 countries in terms of investment made in venture funding')\n",
    "\n",
    "plt.show()"
   ]
  },
  {
   "cell_type": "code",
   "execution_count": 33,
   "metadata": {},
   "outputs": [
    {
     "data": {
      "image/png": "[encoded data removed]",
      "text/plain": [
       "<Figure size 1728x576 with 1 Axes>"
      ]
     },
     "metadata": {
      "needs_background": "light"
     },
     "output_type": "display_data"
    }
   ],
   "source": [
    "plt.figure(figsize=(24,8))\n",
    "plt.subplot(1, 1, 1)\n",
    "labels = (1, 2, 3)\n",
    "\n",
    "ind = np.arange(3)   # the x locations for the groups\n",
    "width = 0.25         # the width of the bars\n",
    "\n",
    "colors = ['b', 'r', 'y']\n",
    "# in each loop, each sector is plotted for all the 3 countries\n",
    "for n in range(3):\n",
    "    sizes = [top_3_sectors_D1[n], top_3_sectors_D2[n], top_3_sectors_D3[n]]\n",
    "    labels = [top_3_sectors_D1.index[n], top_3_sectors_D2.index[n], top_3_sectors_D3.index[n]]\n",
    "    plt.barh(ind+(n*width), sizes, height=width, color=colors[n], alpha=0.9)\n",
    "    for i, x in enumerate(labels):\n",
    "        plt.text(i+sizes[i], i+(n*width), s=x , fontdict=dict(fontsize=10))\n",
    "\n",
    "plt.yticks(ind+width, labels=top3_english_speaking_countries)\n",
    "plt.legend(['Top sector', 'Second sector', 'Third sector'])\n",
    "\n",
    "plt.xlabel('No. of Investments')\n",
    "plt.title('Number of investments in venture funding for top3 English speaking countries, in the investment range of 5-15million USD')\n",
    "plt.autoscale()\n",
    "\n",
    "plt.show()"
   ]
  }
 ],
 "metadata": {
  "kernelspec": {
   "display_name": "Python 3",
   "language": "python",
   "name": "python3"
  },
  "language_info": {
   "codemirror_mode": {
    "name": "ipython",
    "version": 3
   },
   "file_extension": ".py",
   "mimetype": "text/x-python",
   "name": "python",
   "nbconvert_exporter": "python",
   "pygments_lexer": "ipython3",
   "version": "3.7.3"
  }
 },
 "nbformat": 4,
 "nbformat_minor": 2
}
